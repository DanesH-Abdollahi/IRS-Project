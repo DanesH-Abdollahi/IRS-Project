{
 "cells": [
  {
   "cell_type": "code",
   "execution_count": 1,
   "metadata": {},
   "outputs": [],
   "source": [
    "%load_ext autoreload\n",
    "%autoreload 2"
   ]
  },
  {
   "cell_type": "code",
   "execution_count": 2,
   "metadata": {},
   "outputs": [
    {
     "name": "stderr",
     "output_type": "stream",
     "text": [
      "2023-05-31 03:29:44.985945: I tensorflow/core/platform/cpu_feature_guard.cc:193] This TensorFlow binary is optimized with oneAPI Deep Neural Network Library (oneDNN) to use the following CPU instructions in performance-critical operations:  AVX2 FMA\n",
      "To enable them in other operations, rebuild TensorFlow with the appropriate compiler flags.\n",
      "2023-05-31 03:29:46.128218: W tensorflow/compiler/xla/stream_executor/platform/default/dso_loader.cc:64] Could not load dynamic library 'libnvinfer.so.7'; dlerror: libnvinfer.so.7: cannot open shared object file: No such file or directory; LD_LIBRARY_PATH: :/home/danesh/anaconda3/envs/IRS/lib/\n",
      "2023-05-31 03:29:46.134188: W tensorflow/compiler/xla/stream_executor/platform/default/dso_loader.cc:64] Could not load dynamic library 'libnvinfer_plugin.so.7'; dlerror: libnvinfer_plugin.so.7: cannot open shared object file: No such file or directory; LD_LIBRARY_PATH: :/home/danesh/anaconda3/envs/IRS/lib/\n",
      "2023-05-31 03:29:46.134213: W tensorflow/compiler/tf2tensorrt/utils/py_utils.cc:38] TF-TRT Warning: Cannot dlopen some TensorRT libraries. If you would like to use Nvidia GPU with TensorRT, please make sure the missing libraries mentioned above are installed properly.\n"
     ]
    }
   ],
   "source": [
    "from Environment import Environment\n",
    "from Agent import Agent\n",
    "import numpy as np\n",
    "from plot import plot\n",
    "from Display import disp\n",
    "from tqdm import tqdm"
   ]
  },
  {
   "cell_type": "code",
   "execution_count": 3,
   "metadata": {},
   "outputs": [],
   "source": [
    "env = Environment(num_of_antennas=5, num_of_irs1=5, num_of_irs2=5,\n",
    "                      path_loss_exponent=2, irs1_to_antenna=20,\n",
    "                      irs2_to_antenna=20, irs1_to_irs2=10, transmitted_power=1)\n",
    "\n",
    "U1 = env.CreateUser(distance_to_antenna=40, distance_to_irs1=10, distance_to_irs2=20,\n",
    "                    noise_var=1e-4, los_to_antenna=True, los_to_irs1=True,\n",
    "                    los_to_irs2=True, sinr_threshold=3, penalty=10, allocated_power=1, weight=1)\n",
    "\n",
    "U2 = env.CreateUser(distance_to_antenna=40, distance_to_irs1=20, distance_to_irs2=10,\n",
    "                    noise_var=1e-4, los_to_antenna=True, los_to_irs1=True,\n",
    "                    los_to_irs2=True, sinr_threshold=3, penalty=10, allocated_power=1, weight=1)"
   ]
  },
  {
   "cell_type": "code",
   "execution_count": 7,
   "metadata": {},
   "outputs": [
    {
     "name": "stdout",
     "output_type": "stream",
     "text": [
      "Episode 1   Score -> \u001b[32m-16.95    \u001b[0m Avg-Score -> -16.95    \u001b[31m -\u001b[0m Max 😀 U1-SINR ->  1.80    U2-SINR ->  0.34    Sumrate ->  1.91   \n",
      "Power split factor = 0.48  | U1 Power = 0.48  | U2 Power = 0.52 \n",
      "Episode 2   Score -> \u001b[32m-16.61    \u001b[0m Avg-Score -> -16.78    \u001b[32m +\u001b[0m Max 😀 U1-SINR ->  0.00    U2-SINR ->  3.83    Sumrate ->  2.27   \n",
      "Power split factor = 0.0   | U1 Power = 0.0   | U2 Power = 1.0  \n",
      "Episode 3   Score -> \u001b[32m-8.49     \u001b[0m Avg-Score -> -14.02    \u001b[32m +\u001b[0m Max 😀 U1-SINR ->  0.00    U2-SINR ->  2.97    Sumrate ->  1.99   \n",
      "Power split factor = 0.0093 | U1 Power = 0.0093 | U2 Power = 0.99 \n",
      "Episode 4   Score -> -9.79      Avg-Score -> -12.96    \u001b[32m +\u001b[0m        U1-SINR ->  0.00    U2-SINR ->  9.01    Sumrate ->  3.32   \n",
      "Power split factor = 0.0   | U1 Power = 0.0   | U2 Power = 1.0  \n",
      "Episode 5   Score -> -9.45      Avg-Score -> -12.26    \u001b[32m +\u001b[0m        U1-SINR ->  0.00    U2-SINR ->  11.05   Sumrate ->  3.59   \n",
      "Power split factor = 0.02  | U1 Power = 0.02  | U2 Power = 0.98 \n",
      "Episode 6   Score -> \u001b[32m-7.55     \u001b[0m Avg-Score -> -11.47    \u001b[32m +\u001b[0m Max 😀 U1-SINR ->  0.06    U2-SINR ->  2.03    Sumrate ->  1.69   \n",
      "Power split factor = 0.19  | U1 Power = 0.19  | U2 Power = 0.81 \n",
      "Episode 7   Score -> -8.72      Avg-Score -> -11.08    \u001b[32m +\u001b[0m        U1-SINR ->  0.00    U2-SINR ->  9.67    Sumrate ->  3.42   \n",
      "Power split factor = 0.0   | U1 Power = 0.0   | U2 Power = 1.0  \n",
      "Episode 8   Score -> -8.39      Avg-Score -> -10.74    \u001b[32m +\u001b[0m        U1-SINR ->  0.00    U2-SINR ->  13.04   Sumrate ->  3.81   \n",
      "Power split factor = 0.0   | U1 Power = 0.0   | U2 Power = 1.0  \n",
      "Episode 9   Score -> -7.90      Avg-Score -> -10.43    \u001b[32m +\u001b[0m        U1-SINR ->  0.00    U2-SINR ->  9.22    Sumrate ->  3.35   \n",
      "Power split factor = 0.05  | U1 Power = 0.05  | U2 Power = 0.95 \n"
     ]
    },
    {
     "ename": "KeyboardInterrupt",
     "evalue": "",
     "output_type": "error",
     "traceback": [
      "\u001b[0;31m---------------------------------------------------------------------------\u001b[0m",
      "\u001b[0;31mKeyboardInterrupt\u001b[0m                         Traceback (most recent call last)",
      "Cell \u001b[0;32mIn[7], line 49\u001b[0m\n\u001b[1;32m     40\u001b[0m \u001b[39m# if iter == 0 or iter == num_of_iterations - 1:\u001b[39;00m\n\u001b[1;32m     41\u001b[0m \u001b[39m#     print(\"****************************************************************\")\u001b[39;00m\n\u001b[1;32m     42\u001b[0m \u001b[39m#     print(\"action: \", np.array(action))\u001b[39;00m\n\u001b[0;32m   (...)\u001b[0m\n\u001b[1;32m     45\u001b[0m \u001b[39m#     print(\"SINR: \", SINRs)\u001b[39;00m\n\u001b[1;32m     46\u001b[0m \u001b[39m#     print(\"****************************************************************\")\u001b[39;00m\n\u001b[1;32m     48\u001b[0m agent\u001b[39m.\u001b[39mremember(obs, action, reward, new_state)\n\u001b[0;32m---> 49\u001b[0m agent\u001b[39m.\u001b[39;49mlearn()\n\u001b[1;32m     50\u001b[0m obs \u001b[39m=\u001b[39m new_state\n\u001b[1;32m     51\u001b[0m score \u001b[39m+\u001b[39m\u001b[39m=\u001b[39m reward\n",
      "File \u001b[0;32m/mnt/c/Users/danes/Desktop/IRS-Project/src/Agent.py:164\u001b[0m, in \u001b[0;36mAgent.learn\u001b[0;34m(self)\u001b[0m\n\u001b[1;32m    160\u001b[0m reward_batch \u001b[39m=\u001b[39m tf\u001b[39m.\u001b[39mcast(reward_batch, dtype\u001b[39m=\u001b[39mtf\u001b[39m.\u001b[39mfloat32)\n\u001b[1;32m    161\u001b[0m next_state_batch \u001b[39m=\u001b[39m tf\u001b[39m.\u001b[39mconvert_to_tensor(\n\u001b[1;32m    162\u001b[0m     \u001b[39mself\u001b[39m\u001b[39m.\u001b[39mmemory\u001b[39m.\u001b[39mnext_state_buffer[batch_indices])\n\u001b[0;32m--> 164\u001b[0m \u001b[39mself\u001b[39;49m\u001b[39m.\u001b[39;49mupdate(state_batch, action_batch, reward_batch, next_state_batch)\n\u001b[1;32m    165\u001b[0m \u001b[39mself\u001b[39m\u001b[39m.\u001b[39mupdate_network_parameters()\n",
      "File \u001b[0;32m~/anaconda3/envs/IRS/lib/python3.10/site-packages/tensorflow/python/util/traceback_utils.py:150\u001b[0m, in \u001b[0;36mfilter_traceback.<locals>.error_handler\u001b[0;34m(*args, **kwargs)\u001b[0m\n\u001b[1;32m    148\u001b[0m filtered_tb \u001b[39m=\u001b[39m \u001b[39mNone\u001b[39;00m\n\u001b[1;32m    149\u001b[0m \u001b[39mtry\u001b[39;00m:\n\u001b[0;32m--> 150\u001b[0m   \u001b[39mreturn\u001b[39;00m fn(\u001b[39m*\u001b[39;49margs, \u001b[39m*\u001b[39;49m\u001b[39m*\u001b[39;49mkwargs)\n\u001b[1;32m    151\u001b[0m \u001b[39mexcept\u001b[39;00m \u001b[39mException\u001b[39;00m \u001b[39mas\u001b[39;00m e:\n\u001b[1;32m    152\u001b[0m   filtered_tb \u001b[39m=\u001b[39m _process_traceback_frames(e\u001b[39m.\u001b[39m__traceback__)\n",
      "File \u001b[0;32m~/anaconda3/envs/IRS/lib/python3.10/site-packages/tensorflow/python/eager/polymorphic_function/polymorphic_function.py:880\u001b[0m, in \u001b[0;36mFunction.__call__\u001b[0;34m(self, *args, **kwds)\u001b[0m\n\u001b[1;32m    877\u001b[0m compiler \u001b[39m=\u001b[39m \u001b[39m\"\u001b[39m\u001b[39mxla\u001b[39m\u001b[39m\"\u001b[39m \u001b[39mif\u001b[39;00m \u001b[39mself\u001b[39m\u001b[39m.\u001b[39m_jit_compile \u001b[39melse\u001b[39;00m \u001b[39m\"\u001b[39m\u001b[39mnonXla\u001b[39m\u001b[39m\"\u001b[39m\n\u001b[1;32m    879\u001b[0m \u001b[39mwith\u001b[39;00m OptionalXlaContext(\u001b[39mself\u001b[39m\u001b[39m.\u001b[39m_jit_compile):\n\u001b[0;32m--> 880\u001b[0m   result \u001b[39m=\u001b[39m \u001b[39mself\u001b[39;49m\u001b[39m.\u001b[39;49m_call(\u001b[39m*\u001b[39;49margs, \u001b[39m*\u001b[39;49m\u001b[39m*\u001b[39;49mkwds)\n\u001b[1;32m    882\u001b[0m new_tracing_count \u001b[39m=\u001b[39m \u001b[39mself\u001b[39m\u001b[39m.\u001b[39mexperimental_get_tracing_count()\n\u001b[1;32m    883\u001b[0m without_tracing \u001b[39m=\u001b[39m (tracing_count \u001b[39m==\u001b[39m new_tracing_count)\n",
      "File \u001b[0;32m~/anaconda3/envs/IRS/lib/python3.10/site-packages/tensorflow/python/eager/polymorphic_function/polymorphic_function.py:912\u001b[0m, in \u001b[0;36mFunction._call\u001b[0;34m(self, *args, **kwds)\u001b[0m\n\u001b[1;32m    909\u001b[0m   \u001b[39mself\u001b[39m\u001b[39m.\u001b[39m_lock\u001b[39m.\u001b[39mrelease()\n\u001b[1;32m    910\u001b[0m   \u001b[39m# In this case we have created variables on the first call, so we run the\u001b[39;00m\n\u001b[1;32m    911\u001b[0m   \u001b[39m# defunned version which is guaranteed to never create variables.\u001b[39;00m\n\u001b[0;32m--> 912\u001b[0m   \u001b[39mreturn\u001b[39;00m \u001b[39mself\u001b[39;49m\u001b[39m.\u001b[39;49m_no_variable_creation_fn(\u001b[39m*\u001b[39;49margs, \u001b[39m*\u001b[39;49m\u001b[39m*\u001b[39;49mkwds)  \u001b[39m# pylint: disable=not-callable\u001b[39;00m\n\u001b[1;32m    913\u001b[0m \u001b[39melif\u001b[39;00m \u001b[39mself\u001b[39m\u001b[39m.\u001b[39m_variable_creation_fn \u001b[39mis\u001b[39;00m \u001b[39mnot\u001b[39;00m \u001b[39mNone\u001b[39;00m:\n\u001b[1;32m    914\u001b[0m   \u001b[39m# Release the lock early so that multiple threads can perform the call\u001b[39;00m\n\u001b[1;32m    915\u001b[0m   \u001b[39m# in parallel.\u001b[39;00m\n\u001b[1;32m    916\u001b[0m   \u001b[39mself\u001b[39m\u001b[39m.\u001b[39m_lock\u001b[39m.\u001b[39mrelease()\n",
      "File \u001b[0;32m~/anaconda3/envs/IRS/lib/python3.10/site-packages/tensorflow/python/eager/polymorphic_function/tracing_compiler.py:134\u001b[0m, in \u001b[0;36mTracingCompiler.__call__\u001b[0;34m(self, *args, **kwargs)\u001b[0m\n\u001b[1;32m    131\u001b[0m \u001b[39mwith\u001b[39;00m \u001b[39mself\u001b[39m\u001b[39m.\u001b[39m_lock:\n\u001b[1;32m    132\u001b[0m   (concrete_function,\n\u001b[1;32m    133\u001b[0m    filtered_flat_args) \u001b[39m=\u001b[39m \u001b[39mself\u001b[39m\u001b[39m.\u001b[39m_maybe_define_function(args, kwargs)\n\u001b[0;32m--> 134\u001b[0m \u001b[39mreturn\u001b[39;00m concrete_function\u001b[39m.\u001b[39;49m_call_flat(\n\u001b[1;32m    135\u001b[0m     filtered_flat_args, captured_inputs\u001b[39m=\u001b[39;49mconcrete_function\u001b[39m.\u001b[39;49mcaptured_inputs)\n",
      "File \u001b[0;32m~/anaconda3/envs/IRS/lib/python3.10/site-packages/tensorflow/python/eager/polymorphic_function/monomorphic_function.py:1745\u001b[0m, in \u001b[0;36mConcreteFunction._call_flat\u001b[0;34m(self, args, captured_inputs, cancellation_manager)\u001b[0m\n\u001b[1;32m   1741\u001b[0m possible_gradient_type \u001b[39m=\u001b[39m gradients_util\u001b[39m.\u001b[39mPossibleTapeGradientTypes(args)\n\u001b[1;32m   1742\u001b[0m \u001b[39mif\u001b[39;00m (possible_gradient_type \u001b[39m==\u001b[39m gradients_util\u001b[39m.\u001b[39mPOSSIBLE_GRADIENT_TYPES_NONE\n\u001b[1;32m   1743\u001b[0m     \u001b[39mand\u001b[39;00m executing_eagerly):\n\u001b[1;32m   1744\u001b[0m   \u001b[39m# No tape is watching; skip to running the function.\u001b[39;00m\n\u001b[0;32m-> 1745\u001b[0m   \u001b[39mreturn\u001b[39;00m \u001b[39mself\u001b[39m\u001b[39m.\u001b[39m_build_call_outputs(\u001b[39mself\u001b[39;49m\u001b[39m.\u001b[39;49m_inference_function\u001b[39m.\u001b[39;49mcall(\n\u001b[1;32m   1746\u001b[0m       ctx, args, cancellation_manager\u001b[39m=\u001b[39;49mcancellation_manager))\n\u001b[1;32m   1747\u001b[0m forward_backward \u001b[39m=\u001b[39m \u001b[39mself\u001b[39m\u001b[39m.\u001b[39m_select_forward_and_backward_functions(\n\u001b[1;32m   1748\u001b[0m     args,\n\u001b[1;32m   1749\u001b[0m     possible_gradient_type,\n\u001b[1;32m   1750\u001b[0m     executing_eagerly)\n\u001b[1;32m   1751\u001b[0m forward_function, args_with_tangents \u001b[39m=\u001b[39m forward_backward\u001b[39m.\u001b[39mforward()\n",
      "File \u001b[0;32m~/anaconda3/envs/IRS/lib/python3.10/site-packages/tensorflow/python/eager/polymorphic_function/monomorphic_function.py:378\u001b[0m, in \u001b[0;36m_EagerDefinedFunction.call\u001b[0;34m(self, ctx, args, cancellation_manager)\u001b[0m\n\u001b[1;32m    376\u001b[0m \u001b[39mwith\u001b[39;00m _InterpolateFunctionError(\u001b[39mself\u001b[39m):\n\u001b[1;32m    377\u001b[0m   \u001b[39mif\u001b[39;00m cancellation_manager \u001b[39mis\u001b[39;00m \u001b[39mNone\u001b[39;00m:\n\u001b[0;32m--> 378\u001b[0m     outputs \u001b[39m=\u001b[39m execute\u001b[39m.\u001b[39;49mexecute(\n\u001b[1;32m    379\u001b[0m         \u001b[39mstr\u001b[39;49m(\u001b[39mself\u001b[39;49m\u001b[39m.\u001b[39;49msignature\u001b[39m.\u001b[39;49mname),\n\u001b[1;32m    380\u001b[0m         num_outputs\u001b[39m=\u001b[39;49m\u001b[39mself\u001b[39;49m\u001b[39m.\u001b[39;49m_num_outputs,\n\u001b[1;32m    381\u001b[0m         inputs\u001b[39m=\u001b[39;49margs,\n\u001b[1;32m    382\u001b[0m         attrs\u001b[39m=\u001b[39;49mattrs,\n\u001b[1;32m    383\u001b[0m         ctx\u001b[39m=\u001b[39;49mctx)\n\u001b[1;32m    384\u001b[0m   \u001b[39melse\u001b[39;00m:\n\u001b[1;32m    385\u001b[0m     outputs \u001b[39m=\u001b[39m execute\u001b[39m.\u001b[39mexecute_with_cancellation(\n\u001b[1;32m    386\u001b[0m         \u001b[39mstr\u001b[39m(\u001b[39mself\u001b[39m\u001b[39m.\u001b[39msignature\u001b[39m.\u001b[39mname),\n\u001b[1;32m    387\u001b[0m         num_outputs\u001b[39m=\u001b[39m\u001b[39mself\u001b[39m\u001b[39m.\u001b[39m_num_outputs,\n\u001b[0;32m   (...)\u001b[0m\n\u001b[1;32m    390\u001b[0m         ctx\u001b[39m=\u001b[39mctx,\n\u001b[1;32m    391\u001b[0m         cancellation_manager\u001b[39m=\u001b[39mcancellation_manager)\n",
      "File \u001b[0;32m~/anaconda3/envs/IRS/lib/python3.10/site-packages/tensorflow/python/eager/execute.py:52\u001b[0m, in \u001b[0;36mquick_execute\u001b[0;34m(op_name, num_outputs, inputs, attrs, ctx, name)\u001b[0m\n\u001b[1;32m     50\u001b[0m \u001b[39mtry\u001b[39;00m:\n\u001b[1;32m     51\u001b[0m   ctx\u001b[39m.\u001b[39mensure_initialized()\n\u001b[0;32m---> 52\u001b[0m   tensors \u001b[39m=\u001b[39m pywrap_tfe\u001b[39m.\u001b[39;49mTFE_Py_Execute(ctx\u001b[39m.\u001b[39;49m_handle, device_name, op_name,\n\u001b[1;32m     53\u001b[0m                                       inputs, attrs, num_outputs)\n\u001b[1;32m     54\u001b[0m \u001b[39mexcept\u001b[39;00m core\u001b[39m.\u001b[39m_NotOkStatusException \u001b[39mas\u001b[39;00m e:\n\u001b[1;32m     55\u001b[0m   \u001b[39mif\u001b[39;00m name \u001b[39mis\u001b[39;00m \u001b[39mnot\u001b[39;00m \u001b[39mNone\u001b[39;00m:\n",
      "\u001b[0;31mKeyboardInterrupt\u001b[0m: "
     ]
    }
   ],
   "source": [
    "num_of_actions = env.M1 + env.M2 + len(env.Users) * env.N + env.num_of_users - 1\n",
    "\n",
    "agent = Agent(num_states=env.num_of_users, bound=2, batch_size=128, max_size=100000,\n",
    "                env=env, n_actions=num_of_actions,\n",
    "                noise=0.02, alpha=0.0002, beta=0.0004, fc1=512, fc2=256)\n",
    "\n",
    "\n",
    "num_of_episodes = 100\n",
    "num_of_iterations = 100\n",
    "\n",
    "score_history = np.zeros((num_of_episodes,))\n",
    "rewards = np.zeros((num_of_episodes, num_of_iterations))\n",
    "sumrate = np.zeros((num_of_episodes, num_of_iterations))\n",
    "U1_SINR = np.zeros((num_of_episodes, num_of_iterations))\n",
    "U2_SINR = np.zeros((num_of_episodes, num_of_iterations))\n",
    "\n",
    "Old_Avg = 0\n",
    "obs = env.State()\n",
    "\n",
    "for ep in range(num_of_episodes):\n",
    "    score = 0\n",
    "    obs = env.State()\n",
    "\n",
    "    if ep < num_of_episodes / 4:\n",
    "        agent.noise = 0.40\n",
    "    elif ep < num_of_episodes * 2 / 4:\n",
    "        agent.noise = 0.20\n",
    "    elif ep < num_of_episodes * 3 / 4:\n",
    "        agent.noise = 0.1\n",
    "    elif ep < num_of_episodes * 3 / 4 + 10:\n",
    "        agent.noise = 0.05\n",
    "    else:\n",
    "        agent.noise = 0\n",
    "\n",
    "    for iter in range(num_of_iterations):\n",
    "        action = agent.choose_action(obs)\n",
    "\n",
    "        new_state, reward, sumrate[ep][iter], SINRs = env.Step(action)\n",
    "\n",
    "        # if iter == 0 or iter == num_of_iterations - 1:\n",
    "        #     print(\"****************************************************************\")\n",
    "        #     print(\"action: \", np.array(action))\n",
    "        #     print(\"state: \", obs)\n",
    "        #     print(\"New state: \", new_state)\n",
    "        #     print(\"SINR: \", SINRs)\n",
    "        #     print(\"****************************************************************\")\n",
    "\n",
    "        agent.remember(obs, action, reward, new_state)\n",
    "        agent.learn()\n",
    "        obs = new_state\n",
    "        score += reward\n",
    "        rewards[ep][iter] = reward\n",
    "\n",
    "        U1_SINR[ep][iter] = SINRs[0]\n",
    "        U2_SINR[ep][iter] = SINRs[1]\n",
    "\n",
    "    # agent.learn()\n",
    "    score = score / num_of_iterations\n",
    "    score_history[ep] = score\n",
    "    New_Avg = score_history[:ep + 1].mean()\n",
    "\n",
    "    disp(episod=ep, score=score, score_history=score_history,\n",
    "            New_Avg=New_Avg, Old_Avg=Old_Avg, SINRs=SINRs, sumrate=sumrate[ep][iter])\n",
    "    \n",
    "    ac = np.array(action)\n",
    "    print(f\"Power split factor = {ac[-1 : ][0]: <5.2} | U1 Power = {np.linalg.norm(U1.w) : <5.2} | U2 Power = {np.linalg.norm(U2.w): <5.2}\" )\n",
    "\n",
    "    # obs = env.Reset()\n",
    "    Old_Avg = New_Avg\n",
    "\n",
    "plot(score_history=score_history, sumrate=sumrate,\n",
    "        u1_sinr=U1_SINR, u2_sinr=U2_SINR, mean=False,\n",
    "        title=f\"N = {env.N}, M1 = {env.M1}, M2 = {env.M2}\")\n",
    "\n",
    "# agent.save_models()\n",
    "\n",
    "print(\"\\n\\n\\n\")\n",
    "print(np.diag(np.angle(env.Psi1, deg=True)))\n",
    "print(\"************************************************************************************\")\n",
    "print(np.diag(np.angle(env.Psi2, deg=True)))\n",
    "# np.linalg.norm(env.Users[1].w)\n",
    "# np.angle(env.Users[0].w, deg=True)\n",
    "print(\"************************************************************************************\")\n",
    "print(max(sumrate.reshape(num_of_episodes*num_of_iterations,)))\n"
   ]
  },
  {
   "cell_type": "code",
   "execution_count": 5,
   "metadata": {},
   "outputs": [
    {
     "name": "stdout",
     "output_type": "stream",
     "text": [
      "[ 8.77096597e-02  6.15524347e-01  3.45171366e+00 -1.40334186e-14\n",
      "  0.00000000e+00]\n",
      "************************************************************************************\n",
      "[ 2.11226994  1.16170345  4.19638775 -1.94091082  6.73502281]\n",
      "************************************************************************************\n",
      "8.419825913625557\n"
     ]
    }
   ],
   "source": [
    "print(np.diag(np.angle(env.Psi1, deg=True)))\n",
    "print(\"************************************************************************************\")\n",
    "print(np.diag(np.angle(env.Psi2, deg=True)))\n",
    "# np.linalg.norm(env.Users[1].w)\n",
    "# np.angle(env.Users[0].w, deg=True)\n",
    "print(\"************************************************************************************\")\n",
    "print(max(sumrate.reshape(num_of_episodes*num_of_iterations,)))"
   ]
  },
  {
   "cell_type": "code",
   "execution_count": 8,
   "metadata": {},
   "outputs": [
    {
     "data": {
      "text/plain": [
       "array([1, 2, 3])"
      ]
     },
     "execution_count": 8,
     "metadata": {},
     "output_type": "execute_result"
    }
   ],
   "source": [
    "import numpy as np\n",
    "matrix = np.array([1,2,3])\n",
    "\n",
    "# matrix.__add__(4)\n",
    "np.append(matrix, 4)\n",
    "matrix"
   ]
  },
  {
   "cell_type": "code",
   "execution_count": 47,
   "metadata": {},
   "outputs": [
    {
     "name": "stdout",
     "output_type": "stream",
     "text": [
      "2.0\n"
     ]
    }
   ],
   "source": [
    "print(np.linalg.norm(U1.w) + np.linalg.norm(U2.w))"
   ]
  }
 ],
 "metadata": {
  "kernelspec": {
   "display_name": "IRS",
   "language": "python",
   "name": "python3"
  },
  "language_info": {
   "codemirror_mode": {
    "name": "ipython",
    "version": 3
   },
   "file_extension": ".py",
   "mimetype": "text/x-python",
   "name": "python",
   "nbconvert_exporter": "python",
   "pygments_lexer": "ipython3",
   "version": "3.10.10"
  },
  "orig_nbformat": 4,
  "vscode": {
   "interpreter": {
    "hash": "472fcbe080c97205d331d95d913c2f4b8e22dbe4463cef562b4b97ec7ce05cc4"
   }
  }
 },
 "nbformat": 4,
 "nbformat_minor": 2
}
