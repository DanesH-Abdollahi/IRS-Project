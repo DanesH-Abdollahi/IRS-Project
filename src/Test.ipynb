{
 "cells": [
  {
   "cell_type": "code",
   "execution_count": 37,
   "metadata": {},
   "outputs": [
    {
     "name": "stdout",
     "output_type": "stream",
     "text": [
      "[[0. 1. 2. 1. 2. 3.]]\n",
      "[[ 1.          2.71828183  7.3890561   2.71828183  7.3890561  20.08553692]]\n",
      "<class 'numpy.ndarray'>\n"
     ]
    },
    {
     "data": {
      "text/plain": [
       "1.0"
      ]
     },
     "execution_count": 37,
     "metadata": {},
     "output_type": "execute_result"
    }
   ],
   "source": [
    "import numpy as np\n",
    "import matplotlib.pyplot as plt\n",
    "from math import e\n",
    "\n",
    "\n",
    "a = np.zeros((2 ,3))\n",
    "for i in range(a.shape[0]):\n",
    "    for k in range(a.shape[1]):\n",
    "        a[i,k] = i + k\n",
    "\n",
    "# print(a)\n",
    "# print(a)\n",
    "# a = np.mean(a , axis=1)\n",
    "# print(a)\n",
    "# a.shape[1]\n",
    "# a = np.reshape(a , (1 , 6))\n",
    "a = a.reshape(1,6)\n",
    "# print(a)\n",
    "\n",
    "# plt.plot(range(len(a[0])) , a[0])\n",
    "# plt.show()\n",
    "print(a)\n",
    "b = e ** a\n",
    "print(b)\n",
    "print(type(b))\n",
    "\n",
    "i = 1\n",
    "\n",
    "abs(e ** (1j*i))"
   ]
  },
  {
   "cell_type": "code",
   "execution_count": null,
   "metadata": {},
   "outputs": [],
   "source": []
  }
 ],
 "metadata": {
  "kernelspec": {
   "display_name": "Python 3.10.6 ('IRS_Project')",
   "language": "python",
   "name": "python3"
  },
  "language_info": {
   "codemirror_mode": {
    "name": "ipython",
    "version": 3
   },
   "file_extension": ".py",
   "mimetype": "text/x-python",
   "name": "python",
   "nbconvert_exporter": "python",
   "pygments_lexer": "ipython3",
   "version": "3.10.6"
  },
  "orig_nbformat": 4,
  "vscode": {
   "interpreter": {
    "hash": "7f011480682e9f784cb8695c8abbe3f3989866cac16a9d038dbc504a63a1f039"
   }
  }
 },
 "nbformat": 4,
 "nbformat_minor": 2
}
