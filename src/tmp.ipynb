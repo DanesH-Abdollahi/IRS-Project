{
 "cells": [
  {
   "cell_type": "code",
   "execution_count": 1,
   "metadata": {},
   "outputs": [],
   "source": [
    "%load_ext autoreload\n",
    "%autoreload 2"
   ]
  },
  {
   "cell_type": "code",
   "execution_count": 2,
   "metadata": {},
   "outputs": [
    {
     "name": "stderr",
     "output_type": "stream",
     "text": [
      "2023-10-09 14:11:00.804751: I tensorflow/core/platform/cpu_feature_guard.cc:182] This TensorFlow binary is optimized to use available CPU instructions in performance-critical operations.\n",
      "To enable the following instructions: AVX2 FMA, in other operations, rebuild TensorFlow with the appropriate compiler flags.\n",
      "2023-10-09 14:11:01.882999: W tensorflow/compiler/tf2tensorrt/utils/py_utils.cc:38] TF-TRT Warning: Could not find TensorRT\n"
     ]
    }
   ],
   "source": [
    "from Environment import Environment\n",
    "from Agent import Agent\n",
    "import numpy as np\n",
    "from plot import plot\n",
    "from Display import disp\n",
    "from termcolor import colored\n",
    "from tqdm import tqdm\n",
    "from math import log, exp, ceil"
   ]
  },
  {
   "cell_type": "code",
   "execution_count": 3,
   "metadata": {},
   "outputs": [],
   "source": [
    "def run2(iterations: int, variable_noise:bool, env=None, agent=None, method=\"Iterations_Only\", isplot:bool = True,\n",
    "    alpha:float = 0.0002, beta:float = 0.0004, noise:float = 0.02, batch_size:int = 128, warmup:int = 0,\n",
    "    uniform_selection:bool=True, TD3:bool=False, TD3_update_interval:int=2, last_layer_activation:str=\"sigmoid\",\n",
    "    multi_actor:bool=False, multi_out_layer:bool = False, reward_function:str = \"product*sumrate\",\n",
    "    buffer_size:int = 10000, num_of_actors:int = 4, dummy_actor_input:bool = False, initial_noise:float = 0.5):\n",
    "\n",
    "    sigma = 1e-2\n",
    "\n",
    "    if env == None : \n",
    "        env = Environment(num_of_antennas=20, num_of_irs1=20, num_of_irs2=20,\n",
    "                    path_loss_exponent=2, irs1_to_antenna=20,\n",
    "                    irs2_to_antenna=30, irs1_to_irs2=40, transmitted_power=1, reward_function=\"man6\",\n",
    "                    state_dB=False, without_irs=False)\n",
    "\n",
    "        U1 = env.CreateUser(distance_to_antenna=50, distance_to_irs1=50, distance_to_irs2=30,\n",
    "                                    noise_var=sigma**2, los_to_antenna=False, los_to_irs1=True,\n",
    "                                    los_to_irs2=False, sinr_threshold=1, penalty=10, allocated_power=0.5, weight=1)\n",
    "\n",
    "        U2 = env.CreateUser(distance_to_antenna=60, distance_to_irs1=40, distance_to_irs2=20,\n",
    "                            noise_var=sigma**2, los_to_antenna=True, los_to_irs1=True,\n",
    "                                   los_to_irs2=True, sinr_threshold=1, penalty=10, allocated_power=0.5, weight=1)\n",
    "        \n",
    "    if multi_actor :\n",
    "        num_of_actions = [env.M1, env.M2]\n",
    "        for _ in range(env.num_of_users):\n",
    "            num_of_actions.append(env.N)\n",
    "    else:\n",
    "        num_of_actions = env.M1 + env.M2 + len(env.Users) * env.N + env.num_of_users - 1\n",
    "\n",
    "    if agent == None :\n",
    "        agent = Agent(num_states=env.num_of_users, bound=2, batch_size=batch_size, buffer_size=buffer_size,\n",
    "                        env=env, n_actions=num_of_actions, warmup=warmup,uniform_selection=uniform_selection,\n",
    "                        noise=0.055, alpha=alpha, beta=beta, fc1=512, fc2=256, TD3=TD3, TD3_update_interval=TD3_update_interval,\n",
    "                        last_layer_activation=last_layer_activation, multi_actor=multi_actor, multi_out_layer=multi_out_layer,\n",
    "                        num_of_actors=num_of_actors,dummy_actor_input=dummy_actor_input)\n",
    "\n",
    "\n",
    "    num_of_iterations = iterations\n",
    "    rewards = np.zeros((1, num_of_iterations))\n",
    "    sumrate = np.zeros((1, num_of_iterations))\n",
    "    U1_SINR = np.zeros((1, num_of_iterations))\n",
    "    U2_SINR = np.zeros((1, num_of_iterations))\n",
    "\n",
    "    obs = env.State()\n",
    "\n",
    "    for iter in tqdm(range(num_of_iterations), desc= colored(\"Agent is Learning \\U0001f600 \", \"green\"), ncols=123, colour= \"red\"):\n",
    "\n",
    "        if iter == num_of_iterations - 1:\n",
    "            env.last = True\n",
    "\n",
    "        if variable_noise :\n",
    "            if iter < num_of_iterations / 2:\n",
    "                agent.noise = (initial_noise) * exp(-(iter / num_of_iterations) ** 1)\n",
    "\n",
    "            else:\n",
    "                agent.noise = (initial_noise) * exp(-(iter / (num_of_iterations/2)) ** 1.8)\n",
    "            \n",
    "        else:\n",
    "            agent.noise = noise\n",
    "\n",
    "        action = agent.choose_action(obs)\n",
    "\n",
    "        new_state, reward, sumrate[0][iter], SINRs = env.Step(action)\n",
    "        # if reward != 0 : \n",
    "        agent.remember(obs, action, reward, new_state)\n",
    "            \n",
    "        agent.learn()\n",
    "        obs = new_state\n",
    "        rewards[0][iter] = reward\n",
    "        U1_SINR[0][iter] = SINRs[0]\n",
    "        U2_SINR[0][iter] = SINRs[1]\n",
    "\n",
    "    \n",
    "    # print(np.array(action)[-1])\n",
    "\n",
    "    last_sumrate, last_u1_sinr, last_u2_sinr = plot(score_history=np.array([1]), sumrate=sumrate,\n",
    "            u1_sinr=U1_SINR, u2_sinr=U2_SINR, mean=False,\n",
    "            title=f\"N = {env.N}, M1 = {env.M1}, M2 = {env.M2}\", method=method, isplot=isplot)\n",
    "\n",
    "    return agent, last_sumrate, last_u1_sinr, last_u2_sinr\n"
   ]
  },
  {
   "cell_type": "code",
   "execution_count": 6,
   "metadata": {},
   "outputs": [
    {
     "name": "stderr",
     "output_type": "stream",
     "text": [
      "\u001b[32mAgent is Learning 😀 \u001b[0m: 100%|\u001b[31m█████████████████████████████████████████████████████████████\u001b[0m| 150/150 [00:13<00:00, 10.78it/s]\u001b[0m\n"
     ]
    },
    {
     "name": "stdout",
     "output_type": "stream",
     "text": [
      "Sumrate_1 =  0.843     U1_Rate_1 =  0.406           U2_Rate_1 =  0.442    \n",
      "\n",
      "\n",
      "Avg 1 =  0.843    \n",
      "\n"
     ]
    }
   ],
   "source": [
    "num_of_runs = 1\n",
    "average_sumrate_1 = 0\n",
    "sigma = 1e-2\n",
    "\n",
    "for _ in range(num_of_runs):\n",
    "\n",
    "       env = Environment(num_of_antennas=10, num_of_irs1=10, num_of_irs2=10,\n",
    "                    path_loss_exponent=2, irs1_to_antenna=20,\n",
    "                    irs2_to_antenna=30, irs1_to_irs2=40, transmitted_power=1, reward_function=\"man6\",\n",
    "                    state_dB=False, without_irs=False, double_reflection=True)\n",
    "\n",
    "       U1 = env.CreateUser(distance_to_antenna=50, distance_to_irs1=50, distance_to_irs2=30,\n",
    "                                    noise_var=sigma**2, los_to_antenna=True, los_to_irs1=True,\n",
    "                                    los_to_irs2=True, sinr_threshold=1, penalty=10, allocated_power=0.5, weight=1)\n",
    "\n",
    "       U2 = env.CreateUser(distance_to_antenna=60, distance_to_irs1=40, distance_to_irs2=20,\n",
    "                            noise_var=sigma**2, los_to_antenna=True, los_to_irs1=True,\n",
    "                                   los_to_irs2=True, sinr_threshold=1, penalty=10, allocated_power=0.5, weight=1)\n",
    "\n",
    "       env.reward_function = \"man6_2\"\n",
    " \n",
    "       agent1, last_sumrate1, last_u1_sinr1, last_u2_sinr1 = run2(150, variable_noise=True, env=env, isplot=False, alpha=0.0002,\n",
    "                                   beta=0.0004, batch_size=128, multi_actor=True, last_layer_activation=\"tanh\", buffer_size=500,\n",
    "                                   num_of_actors=4, dummy_actor_input=False,)\n",
    "              \n",
    "       average_sumrate_1 += last_sumrate1\n",
    "\n",
    "       print(f\"Sumrate_1 = {last_sumrate1 : < 10.3} U1_Rate_1 = {np.log2(1 + last_u1_sinr1) : < 10.3}\\\n",
    "       U2_Rate_1 = {np.log2(1+  last_u2_sinr1) : < 10.3}\")\n",
    "       \n",
    "       print(\"\\n\")\n",
    "      \n",
    "average_sumrate_1 /= num_of_runs\n",
    "\n",
    "# print(f\"Avg 1 = {average_answ1 : < 5.2}\")\n",
    "print(f\"Avg 1 = {average_sumrate_1 : < 10.3}\\n\")"
   ]
  },
  {
   "cell_type": "code",
   "execution_count": 30,
   "metadata": {},
   "outputs": [
    {
     "ename": "AttributeError",
     "evalue": "The layer \"dense_84\" has never been called and thus has no defined input shape. Note that the `input_shape` property is only available for Functional and Sequential models.",
     "output_type": "error",
     "traceback": [
      "\u001b[0;31m---------------------------------------------------------------------------\u001b[0m",
      "\u001b[0;31mAttributeError\u001b[0m                            Traceback (most recent call last)",
      "\u001b[1;32m/home/danesh/Desktop/IRS-Project/src/tmp.ipynb Cell 5\u001b[0m line \u001b[0;36m4\n\u001b[1;32m      <a href='vscode-notebook-cell:/home/danesh/Desktop/IRS-Project/src/tmp.ipynb#W4sZmlsZQ%3D%3D?line=0'>1</a>\u001b[0m \u001b[39mimport\u001b[39;00m \u001b[39mtensorflow\u001b[39;00m \u001b[39mas\u001b[39;00m \u001b[39mtf\u001b[39;00m\n\u001b[1;32m      <a href='vscode-notebook-cell:/home/danesh/Desktop/IRS-Project/src/tmp.ipynb#W4sZmlsZQ%3D%3D?line=1'>2</a>\u001b[0m \u001b[39mfrom\u001b[39;00m \u001b[39mann_visualizer\u001b[39;00m\u001b[39m.\u001b[39;00m\u001b[39mvisualize\u001b[39;00m \u001b[39mimport\u001b[39;00m ann_viz\n\u001b[0;32m----> <a href='vscode-notebook-cell:/home/danesh/Desktop/IRS-Project/src/tmp.ipynb#W4sZmlsZQ%3D%3D?line=3'>4</a>\u001b[0m ann_viz(agent1\u001b[39m.\u001b[39;49mpower)\n\u001b[1;32m      <a href='vscode-notebook-cell:/home/danesh/Desktop/IRS-Project/src/tmp.ipynb#W4sZmlsZQ%3D%3D?line=4'>5</a>\u001b[0m \u001b[39m# agent1.critic\u001b[39;00m\n\u001b[1;32m      <a href='vscode-notebook-cell:/home/danesh/Desktop/IRS-Project/src/tmp.ipynb#W4sZmlsZQ%3D%3D?line=5'>6</a>\u001b[0m \u001b[39m# tf.keras.utils.plot_model(\u001b[39;00m\n\u001b[1;32m      <a href='vscode-notebook-cell:/home/danesh/Desktop/IRS-Project/src/tmp.ipynb#W4sZmlsZQ%3D%3D?line=6'>7</a>\u001b[0m \u001b[39m#     agent1.critic,\u001b[39;00m\n\u001b[1;32m      <a href='vscode-notebook-cell:/home/danesh/Desktop/IRS-Project/src/tmp.ipynb#W4sZmlsZQ%3D%3D?line=7'>8</a>\u001b[0m \u001b[39m#     show_shapes=True,\u001b[39;00m\n\u001b[1;32m      <a href='vscode-notebook-cell:/home/danesh/Desktop/IRS-Project/src/tmp.ipynb#W4sZmlsZQ%3D%3D?line=8'>9</a>\u001b[0m \u001b[39m# )\u001b[39;00m\n\u001b[1;32m     <a href='vscode-notebook-cell:/home/danesh/Desktop/IRS-Project/src/tmp.ipynb#W4sZmlsZQ%3D%3D?line=9'>10</a>\u001b[0m \u001b[39m# agent1.critic.summary(show_trainable=True, line_length=123, positions=[.33, .55, .67, 1.], print_fn=None, )\u001b[39;00m\n",
      "File \u001b[0;32m~/anaconda3/envs/IRS/lib/python3.9/site-packages/ann_visualizer/visualize.py:42\u001b[0m, in \u001b[0;36mann_viz\u001b[0;34m(model, view, filename, title)\u001b[0m\n\u001b[1;32m     40\u001b[0m \u001b[39mfor\u001b[39;00m layer \u001b[39min\u001b[39;00m model\u001b[39m.\u001b[39mlayers:\n\u001b[1;32m     41\u001b[0m     \u001b[39mif\u001b[39;00m(layer \u001b[39m==\u001b[39m model\u001b[39m.\u001b[39mlayers[\u001b[39m0\u001b[39m]):\n\u001b[0;32m---> 42\u001b[0m         input_layer \u001b[39m=\u001b[39m \u001b[39mint\u001b[39m(\u001b[39mstr\u001b[39m(layer\u001b[39m.\u001b[39;49minput_shape)\u001b[39m.\u001b[39msplit(\u001b[39m\"\u001b[39m\u001b[39m,\u001b[39m\u001b[39m\"\u001b[39m)[\u001b[39m1\u001b[39m][\u001b[39m1\u001b[39m:\u001b[39m-\u001b[39m\u001b[39m1\u001b[39m]);\n\u001b[1;32m     43\u001b[0m         hidden_layers_nr \u001b[39m+\u001b[39m\u001b[39m=\u001b[39m \u001b[39m1\u001b[39m;\n\u001b[1;32m     44\u001b[0m         \u001b[39mif\u001b[39;00m (\u001b[39mtype\u001b[39m(layer) \u001b[39m==\u001b[39m keras\u001b[39m.\u001b[39mlayers\u001b[39m.\u001b[39mcore\u001b[39m.\u001b[39mDense):\n",
      "File \u001b[0;32m~/anaconda3/envs/IRS/lib/python3.9/site-packages/keras/src/engine/base_layer.py:2128\u001b[0m, in \u001b[0;36mLayer.input_shape\u001b[0;34m(self)\u001b[0m\n\u001b[1;32m   2113\u001b[0m \u001b[39m\u001b[39m\u001b[39m\"\"\"Retrieves the input shape(s) of a layer.\u001b[39;00m\n\u001b[1;32m   2114\u001b[0m \n\u001b[1;32m   2115\u001b[0m \u001b[39mOnly applicable if the layer has exactly one input,\u001b[39;00m\n\u001b[0;32m   (...)\u001b[0m\n\u001b[1;32m   2125\u001b[0m \u001b[39m    RuntimeError: if called in Eager mode.\u001b[39;00m\n\u001b[1;32m   2126\u001b[0m \u001b[39m\"\"\"\u001b[39;00m\n\u001b[1;32m   2127\u001b[0m \u001b[39mif\u001b[39;00m \u001b[39mnot\u001b[39;00m \u001b[39mself\u001b[39m\u001b[39m.\u001b[39m_inbound_nodes:\n\u001b[0;32m-> 2128\u001b[0m     \u001b[39mraise\u001b[39;00m \u001b[39mAttributeError\u001b[39;00m(\n\u001b[1;32m   2129\u001b[0m         \u001b[39mf\u001b[39m\u001b[39m'\u001b[39m\u001b[39mThe layer \u001b[39m\u001b[39m\"\u001b[39m\u001b[39m{\u001b[39;00m\u001b[39mself\u001b[39m\u001b[39m.\u001b[39mname\u001b[39m}\u001b[39;00m\u001b[39m\"\u001b[39m\u001b[39m has never been called \u001b[39m\u001b[39m'\u001b[39m\n\u001b[1;32m   2130\u001b[0m         \u001b[39m\"\u001b[39m\u001b[39mand thus has no defined input shape. Note that the \u001b[39m\u001b[39m\"\u001b[39m\n\u001b[1;32m   2131\u001b[0m         \u001b[39m\"\u001b[39m\u001b[39m`input_shape` property is only available for \u001b[39m\u001b[39m\"\u001b[39m\n\u001b[1;32m   2132\u001b[0m         \u001b[39m\"\u001b[39m\u001b[39mFunctional and Sequential models.\u001b[39m\u001b[39m\"\u001b[39m\n\u001b[1;32m   2133\u001b[0m     )\n\u001b[1;32m   2134\u001b[0m all_input_shapes \u001b[39m=\u001b[39m \u001b[39mset\u001b[39m(\n\u001b[1;32m   2135\u001b[0m     [\u001b[39mstr\u001b[39m(node\u001b[39m.\u001b[39minput_shapes) \u001b[39mfor\u001b[39;00m node \u001b[39min\u001b[39;00m \u001b[39mself\u001b[39m\u001b[39m.\u001b[39m_inbound_nodes]\n\u001b[1;32m   2136\u001b[0m )\n\u001b[1;32m   2137\u001b[0m \u001b[39mif\u001b[39;00m \u001b[39mlen\u001b[39m(all_input_shapes) \u001b[39m==\u001b[39m \u001b[39m1\u001b[39m:\n",
      "\u001b[0;31mAttributeError\u001b[0m: The layer \"dense_84\" has never been called and thus has no defined input shape. Note that the `input_shape` property is only available for Functional and Sequential models."
     ]
    }
   ],
   "source": [
    "import tensorflow as tf\n",
    "from ann_visualizer.visualize import ann_viz\n",
    "\n",
    "ann_viz(agent1.power)\n",
    "# agent1.critic\n",
    "# tf.keras.utils.plot_model(\n",
    "#     agent1.critic,\n",
    "#     show_shapes=True,\n",
    "# )\n",
    "# agent1.critic.summary(show_trainable=True, line_length=123, positions=[.33, .55, .67, 1.], print_fn=None, )"
   ]
  },
  {
   "cell_type": "code",
   "execution_count": 14,
   "metadata": {},
   "outputs": [
    {
     "ename": "AttributeError",
     "evalue": "The layer \"dense_84\" has never been called and thus has no defined output shape.",
     "output_type": "error",
     "traceback": [
      "\u001b[0;31m---------------------------------------------------------------------------\u001b[0m",
      "\u001b[0;31mAttributeError\u001b[0m                            Traceback (most recent call last)",
      "\u001b[1;32m/home/danesh/Desktop/IRS-Project/src/tmp.ipynb Cell 6\u001b[0m line \u001b[0;36m2\n\u001b[1;32m      <a href='vscode-notebook-cell:/home/danesh/Desktop/IRS-Project/src/tmp.ipynb#W5sZmlsZQ%3D%3D?line=0'>1</a>\u001b[0m \u001b[39mimport\u001b[39;00m \u001b[39mvisualkeras\u001b[39;00m\n\u001b[0;32m----> <a href='vscode-notebook-cell:/home/danesh/Desktop/IRS-Project/src/tmp.ipynb#W5sZmlsZQ%3D%3D?line=1'>2</a>\u001b[0m visualkeras\u001b[39m.\u001b[39;49mlayered_view(agent1\u001b[39m.\u001b[39;49mpower)\u001b[39m.\u001b[39mshow()\n",
      "File \u001b[0;32m~/anaconda3/envs/IRS/lib/python3.9/site-packages/visualkeras/layered.py:85\u001b[0m, in \u001b[0;36mlayered_view\u001b[0;34m(model, to_file, min_z, min_xy, max_z, max_xy, scale_z, scale_xy, type_ignore, index_ignore, color_map, one_dim_orientation, background_fill, draw_volume, padding, spacing, draw_funnel, shade_step, legend, font, font_color)\u001b[0m\n\u001b[1;32m     82\u001b[0m y \u001b[39m=\u001b[39m min_xy\n\u001b[1;32m     83\u001b[0m z \u001b[39m=\u001b[39m min_z\n\u001b[0;32m---> 85\u001b[0m \u001b[39mif\u001b[39;00m \u001b[39misinstance\u001b[39m(layer\u001b[39m.\u001b[39;49moutput_shape, \u001b[39mtuple\u001b[39m):\n\u001b[1;32m     86\u001b[0m     shape \u001b[39m=\u001b[39m layer\u001b[39m.\u001b[39moutput_shape\n\u001b[1;32m     87\u001b[0m \u001b[39melif\u001b[39;00m \u001b[39misinstance\u001b[39m(layer\u001b[39m.\u001b[39moutput_shape, \u001b[39mlist\u001b[39m) \u001b[39mand\u001b[39;00m \u001b[39mlen\u001b[39m(\n\u001b[1;32m     88\u001b[0m         layer\u001b[39m.\u001b[39moutput_shape) \u001b[39m==\u001b[39m \u001b[39m1\u001b[39m:  \u001b[39m# drop dimension for non seq. models\u001b[39;00m\n",
      "File \u001b[0;32m~/anaconda3/envs/IRS/lib/python3.9/site-packages/keras/src/engine/base_layer.py:2192\u001b[0m, in \u001b[0;36mLayer.output_shape\u001b[0;34m(self)\u001b[0m\n\u001b[1;32m   2178\u001b[0m \u001b[39m\u001b[39m\u001b[39m\"\"\"Retrieves the output shape(s) of a layer.\u001b[39;00m\n\u001b[1;32m   2179\u001b[0m \n\u001b[1;32m   2180\u001b[0m \u001b[39mOnly applicable if the layer has one output,\u001b[39;00m\n\u001b[0;32m   (...)\u001b[0m\n\u001b[1;32m   2189\u001b[0m \u001b[39m    RuntimeError: if called in Eager mode.\u001b[39;00m\n\u001b[1;32m   2190\u001b[0m \u001b[39m\"\"\"\u001b[39;00m\n\u001b[1;32m   2191\u001b[0m \u001b[39mif\u001b[39;00m \u001b[39mnot\u001b[39;00m \u001b[39mself\u001b[39m\u001b[39m.\u001b[39m_inbound_nodes:\n\u001b[0;32m-> 2192\u001b[0m     \u001b[39mraise\u001b[39;00m \u001b[39mAttributeError\u001b[39;00m(\n\u001b[1;32m   2193\u001b[0m         \u001b[39mf\u001b[39m\u001b[39m'\u001b[39m\u001b[39mThe layer \u001b[39m\u001b[39m\"\u001b[39m\u001b[39m{\u001b[39;00m\u001b[39mself\u001b[39m\u001b[39m.\u001b[39mname\u001b[39m}\u001b[39;00m\u001b[39m\"\u001b[39m\u001b[39m has never been called \u001b[39m\u001b[39m'\u001b[39m\n\u001b[1;32m   2194\u001b[0m         \u001b[39m\"\u001b[39m\u001b[39mand thus has no defined output shape.\u001b[39m\u001b[39m\"\u001b[39m\n\u001b[1;32m   2195\u001b[0m     )\n\u001b[1;32m   2196\u001b[0m all_output_shapes \u001b[39m=\u001b[39m \u001b[39mset\u001b[39m(\n\u001b[1;32m   2197\u001b[0m     [\u001b[39mstr\u001b[39m(node\u001b[39m.\u001b[39moutput_shapes) \u001b[39mfor\u001b[39;00m node \u001b[39min\u001b[39;00m \u001b[39mself\u001b[39m\u001b[39m.\u001b[39m_inbound_nodes]\n\u001b[1;32m   2198\u001b[0m )\n\u001b[1;32m   2199\u001b[0m \u001b[39mif\u001b[39;00m \u001b[39mlen\u001b[39m(all_output_shapes) \u001b[39m==\u001b[39m \u001b[39m1\u001b[39m:\n",
      "\u001b[0;31mAttributeError\u001b[0m: The layer \"dense_84\" has never been called and thus has no defined output shape."
     ]
    }
   ],
   "source": [
    "import visualkeras\n",
    "visualkeras.layered_view(agent1.power).show()"
   ]
  }
 ],
 "metadata": {
  "kernelspec": {
   "display_name": "base",
   "language": "python",
   "name": "python3"
  },
  "language_info": {
   "codemirror_mode": {
    "name": "ipython",
    "version": 3
   },
   "file_extension": ".py",
   "mimetype": "text/x-python",
   "name": "python",
   "nbconvert_exporter": "python",
   "pygments_lexer": "ipython3",
   "version": "3.9.17"
  }
 },
 "nbformat": 4,
 "nbformat_minor": 2
}
