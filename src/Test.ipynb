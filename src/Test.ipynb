{
 "cells": [
  {
   "cell_type": "code",
   "execution_count": 15,
   "metadata": {},
   "outputs": [
    {
     "name": "stdout",
     "output_type": "stream",
     "text": [
      "The autoreload extension is already loaded. To reload it, use:\n",
      "  %reload_ext autoreload\n"
     ]
    }
   ],
   "source": [
    "%load_ext autoreload\n",
    "%autoreload 2"
   ]
  },
  {
   "cell_type": "code",
   "execution_count": 22,
   "metadata": {},
   "outputs": [],
   "source": [
    "from Environment import Environment\n",
    "from Agent import Agent\n",
    "import numpy as np\n",
    "from plot import plot\n",
    "from Display import disp\n",
    "from tqdm import tqdm"
   ]
  },
  {
   "cell_type": "code",
   "execution_count": 26,
   "metadata": {},
   "outputs": [],
   "source": [
    "env = Environment(num_of_antennas=5, num_of_irs1=5, num_of_irs2=5,\n",
    "                      path_loss_exponent=2, irs1_to_antenna=20,\n",
    "                      irs2_to_antenna=20, irs1_to_irs2=10, transmitted_power=1)\n",
    "\n",
    "U1 = env.CreateUser(distance_to_antenna=40, distance_to_irs1=10, distance_to_irs2=20,\n",
    "                    noise_var=1e-4, los_to_antenna=True, los_to_irs1=True,\n",
    "                    los_to_irs2=True, sinr_threshold=3, penalty=20, allocated_power=1, weight=1)\n",
    "\n",
    "U2 = env.CreateUser(distance_to_antenna=40, distance_to_irs1=20, distance_to_irs2=10,\n",
    "                    noise_var=1e-4, los_to_antenna=True, los_to_irs1=True,\n",
    "                    los_to_irs2=True, sinr_threshold=3, penalty=10, allocated_power=1, weight=1)"
   ]
  },
  {
   "cell_type": "code",
   "execution_count": 27,
   "metadata": {},
   "outputs": [
    {
     "name": "stdout",
     "output_type": "stream",
     "text": [
      "Episode 1   Score -> \u001b[32m-28.41    \u001b[0m Avg-Score -> -28.41    \u001b[31m -\u001b[0m Max 😀 U1-SINR ->  1.84    U2-SINR ->  0.06    Sumrate ->  1.59   \n",
      "Power split factor = 0.76  | U1 Power = 0.76  | U2 Power = 0.24 \n",
      "Episode 2   Score -> -28.55     Avg-Score -> -28.48    \u001b[31m -\u001b[0m        U1-SINR ->  0.32    U2-SINR ->  0.40    Sumrate ->  0.89   \n",
      "Power split factor = 0.39  | U1 Power = 0.39  | U2 Power = 0.61 \n",
      "Episode 3   Score -> -29.71     Avg-Score -> -28.89    \u001b[31m -\u001b[0m        U1-SINR ->  0.03    U2-SINR ->  0.15    Sumrate ->  0.24   \n",
      "Power split factor = 0.16  | U1 Power = 0.16  | U2 Power = 0.84 \n",
      "Episode 4   Score -> -29.72     Avg-Score -> -29.10    \u001b[31m -\u001b[0m        U1-SINR ->  0.01    U2-SINR ->  0.21    Sumrate ->  0.28   \n",
      "Power split factor = 0.096 | U1 Power = 0.096 | U2 Power = 0.9  \n",
      "Episode 5   Score -> -29.67     Avg-Score -> -29.21    \u001b[31m -\u001b[0m        U1-SINR ->  0.00    U2-SINR ->  0.26    Sumrate ->  0.33   \n",
      "Power split factor = 0.058 | U1 Power = 0.058 | U2 Power = 0.94 \n",
      "Episode 6   Score -> -29.56     Avg-Score -> -29.27    \u001b[31m -\u001b[0m        U1-SINR ->  0.00    U2-SINR ->  0.65    Sumrate ->  0.73   \n",
      "Power split factor = 0.042 | U1 Power = 0.042 | U2 Power = 0.96 \n",
      "Episode 7   Score -> -29.21     Avg-Score -> -29.26    \u001b[32m +\u001b[0m        U1-SINR ->  0.00    U2-SINR ->  0.77    Sumrate ->  0.82   \n",
      "Power split factor = 0.029 | U1 Power = 0.029 | U2 Power = 0.97 \n",
      "Episode 8   Score -> -29.56     Avg-Score -> -29.30    \u001b[31m -\u001b[0m        U1-SINR ->  0.00    U2-SINR ->  0.22    Sumrate ->  0.29   \n",
      "Power split factor = 0.021 | U1 Power = 0.021 | U2 Power = 0.98 \n",
      "Episode 9   Score -> -29.71     Avg-Score -> -29.34    \u001b[31m -\u001b[0m        U1-SINR ->  0.00    U2-SINR ->  0.27    Sumrate ->  0.34   \n",
      "Power split factor = 0.016 | U1 Power = 0.016 | U2 Power = 0.98 \n",
      "Episode 10  Score -> -29.74     Avg-Score -> -29.38    \u001b[31m -\u001b[0m        U1-SINR ->  0.00    U2-SINR ->  0.22    Sumrate ->  0.29   \n",
      "Power split factor = 0.013 | U1 Power = 0.013 | U2 Power = 0.99 \n",
      "Episode 11  Score -> -29.10     Avg-Score -> -29.36    \u001b[32m +\u001b[0m        U1-SINR ->  0.00    U2-SINR ->  2.17    Sumrate ->  1.66   \n",
      "Power split factor = 0.012 | U1 Power = 0.012 | U2 Power = 0.99 \n",
      "Episode 12  Score -> \u001b[32m-27.97    \u001b[0m Avg-Score -> -29.24    \u001b[32m +\u001b[0m Max 😀 U1-SINR ->  0.00    U2-SINR ->  2.52    Sumrate ->  1.82   \n",
      "Power split factor = 0.011 | U1 Power = 0.011 | U2 Power = 0.99 \n",
      "Episode 13  Score -> \u001b[32m-22.47    \u001b[0m Avg-Score -> -28.72    \u001b[32m +\u001b[0m Max 😀 U1-SINR ->  0.00    U2-SINR ->  7.14    Sumrate ->  3.02   \n",
      "Power split factor = 0.011 | U1 Power = 0.011 | U2 Power = 0.99 \n",
      "Episode 14  Score -> -28.26     Avg-Score -> -28.69    \u001b[32m +\u001b[0m        U1-SINR ->  0.00    U2-SINR ->  0.22    Sumrate ->  0.28   \n",
      "Power split factor = 0.011 | U1 Power = 0.011 | U2 Power = 0.99 \n",
      "Episode 15  Score -> -29.72     Avg-Score -> -28.76    \u001b[31m -\u001b[0m        U1-SINR ->  0.00    U2-SINR ->  0.21    Sumrate ->  0.28   \n",
      "Power split factor = 0.01  | U1 Power = 0.01  | U2 Power = 0.99 \n",
      "Episode 16  Score -> -29.48     Avg-Score -> -28.80    \u001b[31m -\u001b[0m        U1-SINR ->  0.00    U2-SINR ->  1.56    Sumrate ->  1.35   \n",
      "Power split factor = 0.0095 | U1 Power = 0.0095 | U2 Power = 0.99 \n",
      "Episode 17  Score -> -28.74     Avg-Score -> -28.80    \u001b[32m +\u001b[0m        U1-SINR ->  0.00    U2-SINR ->  1.52    Sumrate ->  1.33   \n",
      "Power split factor = 0.0087 | U1 Power = 0.0087 | U2 Power = 0.99 \n",
      "Episode 18  Score -> -28.55     Avg-Score -> -28.78    \u001b[32m +\u001b[0m        U1-SINR ->  0.00    U2-SINR ->  1.76    Sumrate ->  1.46   \n",
      "Power split factor = 0.0076 | U1 Power = 0.0076 | U2 Power = 0.99 \n",
      "Episode 19  Score -> -28.76     Avg-Score -> -28.78    \u001b[32m +\u001b[0m        U1-SINR ->  0.00    U2-SINR ->  0.13    Sumrate ->  0.18   \n",
      "Power split factor = 0.0068 | U1 Power = 0.0068 | U2 Power = 0.99 \n",
      "Episode 20  Score -> -29.55     Avg-Score -> -28.82    \u001b[31m -\u001b[0m        U1-SINR ->  0.00    U2-SINR ->  0.84    Sumrate ->  0.88   \n",
      "Power split factor = 0.0065 | U1 Power = 0.0065 | U2 Power = 0.99 \n",
      "Episode 21  Score -> -25.08     Avg-Score -> -28.64    \u001b[32m +\u001b[0m        U1-SINR ->  0.00    U2-SINR ->  0.27    Sumrate ->  0.35   \n",
      "Power split factor = 0.0057 | U1 Power = 0.0057 | U2 Power = 0.99 \n",
      "Episode 22  Score -> -22.84     Avg-Score -> -28.38    \u001b[32m +\u001b[0m        U1-SINR ->  0.00    U2-SINR ->  4.08    Sumrate ->  2.35   \n",
      "Power split factor = 0.0052 | U1 Power = 0.0052 | U2 Power = 0.99 \n",
      "Episode 23  Score -> \u001b[32m-17.13    \u001b[0m Avg-Score -> -27.89    \u001b[32m +\u001b[0m Max 😀 U1-SINR ->  0.00    U2-SINR ->  8.96    Sumrate ->  3.32   \n",
      "Power split factor = 0.0047 | U1 Power = 0.0047 | U2 Power = 1.0  \n",
      "Episode 24  Score -> -17.29     Avg-Score -> -27.45    \u001b[32m +\u001b[0m        U1-SINR ->  0.00    U2-SINR ->  5.41    Sumrate ->  2.68   \n",
      "Power split factor = 0.0042 | U1 Power = 0.0042 | U2 Power = 1.0  \n",
      "Episode 25  Score -> -17.42     Avg-Score -> -27.05    \u001b[32m +\u001b[0m        U1-SINR ->  0.00    U2-SINR ->  4.69    Sumrate ->  2.51   \n",
      "Power split factor = 0.0038 | U1 Power = 0.0038 | U2 Power = 1.0  \n",
      "Episode 26  Score -> -17.45     Avg-Score -> -26.68    \u001b[32m +\u001b[0m        U1-SINR ->  0.00    U2-SINR ->  4.11    Sumrate ->  2.35   \n",
      "Power split factor = 0.0035 | U1 Power = 0.0035 | U2 Power = 1.0  \n",
      "Episode 27  Score -> -17.19     Avg-Score -> -26.33    \u001b[32m +\u001b[0m        U1-SINR ->  0.00    U2-SINR ->  10.02   Sumrate ->  3.46   \n",
      "Power split factor = 0.0032 | U1 Power = 0.0032 | U2 Power = 1.0  \n",
      "Episode 28  Score -> \u001b[32m-16.92    \u001b[0m Avg-Score -> -25.99    \u001b[32m +\u001b[0m Max 😀 U1-SINR ->  0.00    U2-SINR ->  9.50    Sumrate ->  3.39   \n",
      "Power split factor = 0.003 | U1 Power = 0.003 | U2 Power = 1.0  \n",
      "Episode 29  Score -> \u001b[32m-16.73    \u001b[0m Avg-Score -> -25.67    \u001b[32m +\u001b[0m Max 😀 U1-SINR ->  0.00    U2-SINR ->  6.33    Sumrate ->  2.87   \n",
      "Power split factor = 0.0029 | U1 Power = 0.0029 | U2 Power = 1.0  \n",
      "Episode 30  Score -> -16.84     Avg-Score -> -25.38    \u001b[32m +\u001b[0m        U1-SINR ->  0.00    U2-SINR ->  8.41    Sumrate ->  3.23   \n",
      "Power split factor = 0.0027 | U1 Power = 0.0027 | U2 Power = 1.0  \n",
      "Episode 31  Score -> -16.76     Avg-Score -> -25.10    \u001b[32m +\u001b[0m        U1-SINR ->  0.00    U2-SINR ->  8.05    Sumrate ->  3.18   \n",
      "Power split factor = 0.0025 | U1 Power = 0.0025 | U2 Power = 1.0  \n",
      "Episode 32  Score -> -16.77     Avg-Score -> -24.84    \u001b[32m +\u001b[0m        U1-SINR ->  0.00    U2-SINR ->  7.55    Sumrate ->  3.10   \n",
      "Power split factor = 0.0023 | U1 Power = 0.0023 | U2 Power = 1.0  \n",
      "Episode 33  Score -> -16.97     Avg-Score -> -24.60    \u001b[32m +\u001b[0m        U1-SINR ->  0.00    U2-SINR ->  6.88    Sumrate ->  2.98   \n",
      "Power split factor = 0.0021 | U1 Power = 0.0021 | U2 Power = 1.0  \n",
      "Episode 34  Score -> -17.18     Avg-Score -> -24.38    \u001b[32m +\u001b[0m        U1-SINR ->  0.00    U2-SINR ->  6.41    Sumrate ->  2.89   \n",
      "Power split factor = 0.002 | U1 Power = 0.002 | U2 Power = 1.0  \n",
      "Episode 35  Score -> -16.87     Avg-Score -> -24.17    \u001b[32m +\u001b[0m        U1-SINR ->  0.00    U2-SINR ->  9.16    Sumrate ->  3.34   \n",
      "Power split factor = 0.0019 | U1 Power = 0.0019 | U2 Power = 1.0  \n",
      "Episode 36  Score -> -17.08     Avg-Score -> -23.97    \u001b[32m +\u001b[0m        U1-SINR ->  0.00    U2-SINR ->  5.93    Sumrate ->  2.79   \n",
      "Power split factor = 0.0017 | U1 Power = 0.0017 | U2 Power = 1.0  \n"
     ]
    }
   ],
   "source": [
    "num_of_actions = env.M1 + env.M2 + len(env.Users) * env.N + env.num_of_users - 1\n",
    "\n",
    "agent = Agent(num_states=env.num_of_users, bound=2, batch_size=128, max_size=100000,\n",
    "                env=env, n_actions=num_of_actions,\n",
    "                noise=0.02, alpha=0.0002, beta=0.0004, fc1=512, fc2=256)\n",
    "\n",
    "\n",
    "num_of_episodes = 100\n",
    "num_of_iterations = 100\n",
    "\n",
    "score_history = np.zeros((num_of_episodes,))\n",
    "rewards = np.zeros((num_of_episodes, num_of_iterations))\n",
    "sumrate = np.zeros((num_of_episodes, num_of_iterations))\n",
    "U1_SINR = np.zeros((num_of_episodes, num_of_iterations))\n",
    "U2_SINR = np.zeros((num_of_episodes, num_of_iterations))\n",
    "\n",
    "Old_Avg = 0\n",
    "obs = env.State()\n",
    "agent.noise = 0\n",
    "\n",
    "for ep in range(num_of_episodes):\n",
    "    score = 0\n",
    "    obs = env.State()\n",
    "\n",
    "    # if ep < num_of_episodes / 4:\n",
    "    #     agent.noise = 0.40\n",
    "    # elif ep < num_of_episodes * 2 / 4:\n",
    "    #     agent.noise = 0.20\n",
    "    # elif ep < num_of_episodes * 3 / 4:\n",
    "    #     agent.noise = 0.1\n",
    "    # elif ep < num_of_episodes * 3 / 4 + 10:\n",
    "    #     agent.noise = 0.05\n",
    "    # else:\n",
    "    #     agent.noise = 0\n",
    "\n",
    "    for iter in range(num_of_iterations):\n",
    "        action = agent.choose_action(obs)\n",
    "\n",
    "        new_state, reward, sumrate[ep][iter], SINRs = env.Step(action)\n",
    "\n",
    "        # if iter == 0 or iter == num_of_iterations - 1:\n",
    "        #     print(\"****************************************************************\")\n",
    "        #     print(\"action: \", np.array(action))\n",
    "        #     print(\"state: \", obs)\n",
    "        #     print(\"New state: \", new_state)\n",
    "        #     print(\"SINR: \", SINRs)\n",
    "        #     print(\"****************************************************************\")\n",
    "\n",
    "        agent.remember(obs, action, reward, new_state)\n",
    "        agent.learn()\n",
    "        obs = new_state\n",
    "        score += reward\n",
    "        rewards[ep][iter] = reward\n",
    "\n",
    "        U1_SINR[ep][iter] = SINRs[0]\n",
    "        U2_SINR[ep][iter] = SINRs[1]\n",
    "\n",
    "    # agent.learn()\n",
    "    score = score / num_of_iterations\n",
    "    score_history[ep] = score\n",
    "    New_Avg = score_history[:ep + 1].mean()\n",
    "\n",
    "    disp(episod=ep, score=score, score_history=score_history,\n",
    "            New_Avg=New_Avg, Old_Avg=Old_Avg, SINRs=SINRs, sumrate=sumrate[ep][iter])\n",
    "    \n",
    "    ac = np.array(action)\n",
    "    print(f\"Power split factor = {ac[-1 : ][0]: <5.2} | U1 Power = {np.linalg.norm(U1.w) : <5.2} | U2 Power = {np.linalg.norm(U2.w): <5.2}\" )\n",
    "\n",
    "    # obs = env.Reset()\n",
    "    Old_Avg = New_Avg\n",
    "\n",
    "plot(score_history=score_history, sumrate=sumrate,\n",
    "        u1_sinr=U1_SINR, u2_sinr=U2_SINR, mean=False,\n",
    "        title=f\"N = {env.N}, M1 = {env.M1}, M2 = {env.M2}\")\n",
    "\n",
    "# agent.save_models()\n",
    "\n",
    "print(\"\\n\\n\\n\")\n",
    "print(np.diag(np.angle(env.Psi1, deg=True)))\n",
    "print(\"************************************************************************************\")\n",
    "print(np.diag(np.angle(env.Psi2, deg=True)))\n",
    "# np.linalg.norm(env.Users[1].w)\n",
    "# np.angle(env.Users[0].w, deg=True)\n",
    "print(\"************************************************************************************\")\n",
    "print(max(sumrate.reshape(num_of_episodes*num_of_iterations,)))\n"
   ]
  },
  {
   "cell_type": "code",
   "execution_count": 5,
   "metadata": {},
   "outputs": [
    {
     "name": "stdout",
     "output_type": "stream",
     "text": [
      "[ 8.77096597e-02  6.15524347e-01  3.45171366e+00 -1.40334186e-14\n",
      "  0.00000000e+00]\n",
      "************************************************************************************\n",
      "[ 2.11226994  1.16170345  4.19638775 -1.94091082  6.73502281]\n",
      "************************************************************************************\n",
      "8.419825913625557\n"
     ]
    }
   ],
   "source": [
    "print(np.diag(np.angle(env.Psi1, deg=True)))\n",
    "print(\"************************************************************************************\")\n",
    "print(np.diag(np.angle(env.Psi2, deg=True)))\n",
    "# np.linalg.norm(env.Users[1].w)\n",
    "# np.angle(env.Users[0].w, deg=True)\n",
    "print(\"************************************************************************************\")\n",
    "print(max(sumrate.reshape(num_of_episodes*num_of_iterations,)))"
   ]
  },
  {
   "cell_type": "code",
   "execution_count": 8,
   "metadata": {},
   "outputs": [
    {
     "data": {
      "text/plain": [
       "array([1, 2, 3])"
      ]
     },
     "execution_count": 8,
     "metadata": {},
     "output_type": "execute_result"
    }
   ],
   "source": [
    "import numpy as np\n",
    "matrix = np.array([1,2,3])\n",
    "\n",
    "# matrix.__add__(4)\n",
    "np.append(matrix, 4)\n",
    "matrix"
   ]
  },
  {
   "cell_type": "code",
   "execution_count": 47,
   "metadata": {},
   "outputs": [
    {
     "name": "stdout",
     "output_type": "stream",
     "text": [
      "2.0\n"
     ]
    }
   ],
   "source": [
    "print(np.linalg.norm(U1.w) + np.linalg.norm(U2.w))"
   ]
  }
 ],
 "metadata": {
  "kernelspec": {
   "display_name": "IRS",
   "language": "python",
   "name": "python3"
  },
  "language_info": {
   "codemirror_mode": {
    "name": "ipython",
    "version": 3
   },
   "file_extension": ".py",
   "mimetype": "text/x-python",
   "name": "python",
   "nbconvert_exporter": "python",
   "pygments_lexer": "ipython3",
   "version": "3.10.10"
  },
  "orig_nbformat": 4,
  "vscode": {
   "interpreter": {
    "hash": "472fcbe080c97205d331d95d913c2f4b8e22dbe4463cef562b4b97ec7ce05cc4"
   }
  }
 },
 "nbformat": 4,
 "nbformat_minor": 2
}
